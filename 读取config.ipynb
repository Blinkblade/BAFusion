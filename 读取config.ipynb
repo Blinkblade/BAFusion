{
 "cells": [
  {
   "cell_type": "code",
   "execution_count": 121,
   "metadata": {},
   "outputs": [
    {
     "name": "stdout",
     "output_type": "stream",
     "text": [
      "<class 'mmengine.config.config.Config'>\n",
      "Config (path: ./work_dirs/mypillar/mypillar.py): {'voxel_size': [0.16, 0.16, 4], 'model': {'type': 'VoxelNet', 'data_preprocessor': {'type': 'Det3DDataPreprocessor', 'voxel': True, 'voxel_layer': {'max_num_points': 32, 'point_cloud_range': [0, -39.68, -3, 69.12, 39.68, 1], 'voxel_size': [0.16, 0.16, 4], 'max_voxels': (16000, 40000)}}, 'voxel_encoder': {'type': 'PillarFeatureNet', 'in_channels': 4, 'feat_channels': [64], 'with_distance': False, 'voxel_size': [0.16, 0.16, 4], 'point_cloud_range': [0, -39.68, -3, 69.12, 39.68, 1]}, 'middle_encoder': {'type': 'PointPillarsScatter', 'in_channels': 64, 'output_shape': [496, 432]}, 'backbone': {'type': 'SECOND', 'in_channels': 64, 'layer_nums': [3, 5, 5], 'layer_strides': [2, 2, 2], 'out_channels': [64, 128, 256]}, 'neck': {'type': 'SECONDFPN', 'in_channels': [64, 128, 256], 'upsample_strides': [1, 2, 4], 'out_channels': [128, 128, 128]}, 'bbox_head': {'type': 'Anchor3DHead', 'num_classes': 1, 'in_channels': 384, 'feat_channels': 384, 'use_direction_classifier': True, 'assign_per_class': True, 'anchor_generator': {'type': 'AlignedAnchor3DRangeGenerator', 'ranges': [[0, -39.68, -1.78, 69.12, 39.68, -1.78]], 'sizes': [[3.9, 1.6, 1.56]], 'rotations': [0, 1.57], 'reshape_out': True}, 'diff_rad_by_sin': True, 'bbox_coder': {'type': 'DeltaXYZWLHRBBoxCoder'}, 'loss_cls': {'type': 'mmdet.FocalLoss', 'use_sigmoid': True, 'gamma': 2.0, 'alpha': 0.25, 'loss_weight': 1.0}, 'loss_bbox': {'type': 'mmdet.SmoothL1Loss', 'beta': 0.1111111111111111, 'loss_weight': 2.0}, 'loss_dir': {'type': 'mmdet.CrossEntropyLoss', 'use_sigmoid': False, 'loss_weight': 0.2}}, 'train_cfg': {'assigner': {'type': 'Max3DIoUAssigner', 'iou_calculator': {'type': 'BboxOverlapsNearest3D'}, 'pos_iou_thr': 0.6, 'neg_iou_thr': 0.45, 'min_pos_iou': 0.45, 'ignore_iof_thr': -1}, 'allowed_border': 0, 'pos_weight': -1, 'debug': False}, 'test_cfg': {'use_rotate_nms': True, 'nms_across_levels': False, 'nms_thr': 0.01, 'score_thr': 0.1, 'min_bbox_size': 0, 'nms_pre': 100, 'max_num': 50}}, 'dataset_type': 'KittiDataset', 'data_root': 'data/kitti/kitti_tiny_3D/', 'class_names': ['Car'], 'point_cloud_range': [0, -39.68, -3, 69.12, 39.68, 1], 'input_modality': {'use_lidar': True, 'use_camera': False}, 'metainfo': {'classes': ['Car']}, 'backend_args': None, 'db_sampler': {'data_root': 'data/kitti/kitti_tiny_3D/', 'info_path': 'data/kitti/kitti_tiny_3D/kitti_dbinfos_train.pkl', 'rate': 1.0, 'prepare': {'filter_by_difficulty': [-1], 'filter_by_min_points': {'Car': 5, 'Pedestrian': 5, 'Cyclist': 5}}, 'classes': ['Car'], 'sample_groups': {'Car': 15, 'Pedestrian': 15, 'Cyclist': 15}, 'points_loader': {'type': 'LoadPointsFromFile', 'coord_type': 'LIDAR', 'load_dim': 4, 'use_dim': 4, 'backend_args': None}, 'backend_args': None}, 'train_pipeline': [{'type': 'LoadPointsFromFile', 'coord_type': 'LIDAR', 'load_dim': 4, 'use_dim': 4, 'backend_args': None}, {'type': 'LoadAnnotations3D', 'with_bbox_3d': True, 'with_label_3d': True}, {'type': 'ObjectSample', 'db_sampler': {'data_root': 'data/kitti/kitti_tiny_3D/', 'info_path': 'data/kitti/kitti_tiny_3D/kitti_dbinfos_train.pkl', 'rate': 1.0, 'prepare': {'filter_by_difficulty': [-1], 'filter_by_min_points': {'Car': 5}}, 'classes': ['Car'], 'sample_groups': {'Car': 15}, 'points_loader': {'type': 'LoadPointsFromFile', 'coord_type': 'LIDAR', 'load_dim': 4, 'use_dim': 4, 'backend_args': None}, 'backend_args': None}, 'use_ground_plane': False}, {'type': 'RandomFlip3D', 'flip_ratio_bev_horizontal': 0.5}, {'type': 'GlobalRotScaleTrans', 'rot_range': [-0.78539816, 0.78539816], 'scale_ratio_range': [0.95, 1.05]}, {'type': 'PointsRangeFilter', 'point_cloud_range': [0, -39.68, -3, 69.12, 39.68, 1]}, {'type': 'ObjectRangeFilter', 'point_cloud_range': [0, -39.68, -3, 69.12, 39.68, 1]}, {'type': 'PointShuffle'}, {'type': 'Pack3DDetInputs', 'keys': ['points', 'gt_labels_3d', 'gt_bboxes_3d']}], 'test_pipeline': [{'type': 'LoadPointsFromFile', 'coord_type': 'LIDAR', 'load_dim': 4, 'use_dim': 4, 'backend_args': None}, {'type': 'MultiScaleFlipAug3D', 'img_scale': (1333, 800), 'pts_scale_ratio': 1, 'flip': False, 'transforms': [{'type': 'GlobalRotScaleTrans', 'rot_range': [0, 0], 'scale_ratio_range': [1.0, 1.0], 'translation_std': [0, 0, 0]}, {'type': 'RandomFlip3D'}, {'type': 'PointsRangeFilter', 'point_cloud_range': [0, -39.68, -3, 69.12, 39.68, 1]}]}, {'type': 'Pack3DDetInputs', 'keys': ['points']}], 'eval_pipeline': [{'type': 'LoadPointsFromFile', 'coord_type': 'LIDAR', 'load_dim': 4, 'use_dim': 4, 'backend_args': None}, {'type': 'Pack3DDetInputs', 'keys': ['points']}], 'train_dataloader': {'batch_size': 2, 'num_workers': 1, 'persistent_workers': True, 'sampler': {'type': 'DefaultSampler', 'shuffle': True}, 'dataset': {'type': 'RepeatDataset', 'times': 2, 'dataset': {'type': 'KittiDataset', 'data_root': 'data/kitti/kitti_tiny_3D/', 'ann_file': 'kitti_infos_train.pkl', 'data_prefix': {'pts': 'training/velodyne_reduced'}, 'pipeline': [{'type': 'LoadPointsFromFile', 'coord_type': 'LIDAR', 'load_dim': 4, 'use_dim': 4, 'backend_args': None}, {'type': 'LoadAnnotations3D', 'with_bbox_3d': True, 'with_label_3d': True}, {'type': 'ObjectSample', 'db_sampler': {'data_root': 'data/kitti/kitti_tiny_3D/', 'info_path': 'data/kitti/kitti_tiny_3D/kitti_dbinfos_train.pkl', 'rate': 1.0, 'prepare': {'filter_by_difficulty': [-1], 'filter_by_min_points': {'Car': 5}}, 'classes': ['Car'], 'sample_groups': {'Car': 15}, 'points_loader': {'type': 'LoadPointsFromFile', 'coord_type': 'LIDAR', 'load_dim': 4, 'use_dim': 4, 'backend_args': None}, 'backend_args': None}, 'use_ground_plane': False}, {'type': 'RandomFlip3D', 'flip_ratio_bev_horizontal': 0.5}, {'type': 'GlobalRotScaleTrans', 'rot_range': [-0.78539816, 0.78539816], 'scale_ratio_range': [0.95, 1.05]}, {'type': 'PointsRangeFilter', 'point_cloud_range': [0, -39.68, -3, 69.12, 39.68, 1]}, {'type': 'ObjectRangeFilter', 'point_cloud_range': [0, -39.68, -3, 69.12, 39.68, 1]}, {'type': 'PointShuffle'}, {'type': 'Pack3DDetInputs', 'keys': ['points', 'gt_labels_3d', 'gt_bboxes_3d']}], 'modality': {'use_lidar': True, 'use_camera': False}, 'test_mode': False, 'metainfo': {'classes': ['Car']}, 'box_type_3d': 'LiDAR', 'backend_args': None}}}, 'val_dataloader': {'batch_size': 1, 'num_workers': 1, 'persistent_workers': True, 'drop_last': False, 'sampler': {'type': 'DefaultSampler', 'shuffle': False}, 'dataset': {'type': 'KittiDataset', 'data_root': 'data/kitti/kitti_tiny_3D/', 'data_prefix': {'pts': 'training/velodyne_reduced'}, 'ann_file': 'kitti_infos_val.pkl', 'pipeline': [{'type': 'LoadPointsFromFile', 'coord_type': 'LIDAR', 'load_dim': 4, 'use_dim': 4, 'backend_args': None}, {'type': 'MultiScaleFlipAug3D', 'img_scale': (1333, 800), 'pts_scale_ratio': 1, 'flip': False, 'transforms': [{'type': 'GlobalRotScaleTrans', 'rot_range': [0, 0], 'scale_ratio_range': [1.0, 1.0], 'translation_std': [0, 0, 0]}, {'type': 'RandomFlip3D'}, {'type': 'PointsRangeFilter', 'point_cloud_range': [0, -39.68, -3, 69.12, 39.68, 1]}]}, {'type': 'Pack3DDetInputs', 'keys': ['points']}], 'modality': {'use_lidar': True, 'use_camera': False}, 'test_mode': True, 'metainfo': {'classes': ['Car']}, 'box_type_3d': 'LiDAR', 'backend_args': None}}, 'test_dataloader': {'batch_size': 1, 'num_workers': 1, 'persistent_workers': True, 'drop_last': False, 'sampler': {'type': 'DefaultSampler', 'shuffle': False}, 'dataset': {'type': 'KittiDataset', 'data_root': 'data/kitti/kitti_tiny_3D/', 'data_prefix': {'pts': 'training/velodyne_reduced'}, 'ann_file': 'kitti_infos_val.pkl', 'pipeline': [{'type': 'LoadPointsFromFile', 'coord_type': 'LIDAR', 'load_dim': 4, 'use_dim': 4, 'backend_args': None}, {'type': 'MultiScaleFlipAug3D', 'img_scale': (1333, 800), 'pts_scale_ratio': 1, 'flip': False, 'transforms': [{'type': 'GlobalRotScaleTrans', 'rot_range': [0, 0], 'scale_ratio_range': [1.0, 1.0], 'translation_std': [0, 0, 0]}, {'type': 'RandomFlip3D'}, {'type': 'PointsRangeFilter', 'point_cloud_range': [0, -39.68, -3, 69.12, 39.68, 1]}]}, {'type': 'Pack3DDetInputs', 'keys': ['points']}], 'modality': {'use_lidar': True, 'use_camera': False}, 'test_mode': True, 'metainfo': {'classes': ['Car']}, 'box_type_3d': 'LiDAR', 'backend_args': None}}, 'val_evaluator': {'type': 'KittiMetric', 'ann_file': 'data/kitti/kitti_tiny_3D/kitti_infos_val.pkl', 'metric': 'bbox', 'backend_args': None}, 'test_evaluator': {'type': 'KittiMetric', 'ann_file': 'data/kitti/kitti_tiny_3D/kitti_infos_val.pkl', 'metric': 'bbox', 'backend_args': None}, 'vis_backends': [{'type': 'LocalVisBackend'}], 'visualizer': {'type': 'Det3DLocalVisualizer', 'vis_backends': [{'type': 'LocalVisBackend'}], 'name': 'visualizer'}, 'lr': 0.001, 'optim_wrapper': {'type': 'OptimWrapper', 'optimizer': {'type': 'AdamW', 'lr': 0.001, 'betas': (0.95, 0.99), 'weight_decay': 0.01}, 'clip_grad': {'max_norm': 35, 'norm_type': 2}}, 'param_scheduler': [{'type': 'CosineAnnealingLR', 'T_max': 32.0, 'eta_min': 0.01, 'begin': 0, 'end': 32.0, 'by_epoch': True, 'convert_to_iter_based': True}, {'type': 'CosineAnnealingLR', 'T_max': 48.0, 'eta_min': 1.0000000000000001e-07, 'begin': 32.0, 'end': 80, 'by_epoch': True, 'convert_to_iter_based': True}, {'type': 'CosineAnnealingMomentum', 'T_max': 32.0, 'eta_min': 0.8947368421052632, 'begin': 0, 'end': 32.0, 'by_epoch': True, 'convert_to_iter_based': True}, {'type': 'CosineAnnealingMomentum', 'T_max': 48.0, 'eta_min': 1, 'begin': 32.0, 'end': 80, 'convert_to_iter_based': True}], 'train_cfg': {'by_epoch': True, 'max_epochs': 8000, 'val_interval': 2}, 'val_cfg': {}, 'test_cfg': {}, 'auto_scale_lr': {'enable': False, 'base_batch_size': 48}, 'default_scope': 'mmdet3d', 'default_hooks': {'timer': {'type': 'IterTimerHook'}, 'logger': {'type': 'LoggerHook', 'interval': 50}, 'param_scheduler': {'type': 'ParamSchedulerHook'}, 'checkpoint': {'type': 'CheckpointHook', 'interval': -1}, 'sampler_seed': {'type': 'DistSamplerSeedHook'}, 'visualization': {'type': 'Det3DVisualizationHook'}}, 'env_cfg': {'cudnn_benchmark': False, 'mp_cfg': {'mp_start_method': 'fork', 'opencv_num_threads': 0}, 'dist_cfg': {'backend': 'nccl'}}, 'log_processor': {'type': 'LogProcessor', 'window_size': 50, 'by_epoch': True}, 'log_level': 'INFO', 'load_from': 'checkpoints/hv_pointpillars_secfpn_6x8_160e_kitti-3d-car_20220331_134606-d42d15ed.pth', 'resume': False, 'epoch_num': 8000, 'launcher': 'none', 'work_dir': './work_dirs\\\\mypillar'}\n"
     ]
    }
   ],
   "source": [
    "from mmengine.config import Config\n",
    "\n",
    "cfg = Config.fromfile('./work_dirs/mypillar/mypillar.py')\n",
    "print(type(cfg))\n",
    "print(cfg)"
   ]
  },
  {
   "cell_type": "code",
   "execution_count": 122,
   "metadata": {},
   "outputs": [
    {
     "name": "stdout",
     "output_type": "stream",
     "text": [
      "Det3DDataPreprocessor\n"
     ]
    }
   ],
   "source": [
    "print(cfg.model[\"data_preprocessor\"].type)"
   ]
  },
  {
   "cell_type": "code",
   "execution_count": 123,
   "metadata": {},
   "outputs": [
    {
     "name": "stdout",
     "output_type": "stream",
     "text": [
      "<class 'mmengine.config.config.Config'>\n",
      "Config (path: ./temp/inheritance.py): {'default_scope': 'mmdet3d', 'default_hooks': {'timer': {'type': 'IterTimerHook'}, 'logger': {'type': 'LoggerHook', 'interval': 50}, 'param_scheduler': {'type': 'ParamSchedulerHook'}, 'checkpoint': {'type': 'CheckpointHook', 'interval': -1}, 'sampler_seed': {'type': 'DistSamplerSeedHook'}, 'visualization': {'type': 'Det3DVisualizationHook'}}, 'env_cfg': {'cudnn_benchmark': False, 'mp_cfg': {'mp_start_method': 'fork', 'opencv_num_threads': 0}, 'dist_cfg': {'backend': 'nccl'}}, 'log_processor': {'type': 'LogProcessor', 'window_size': 50, 'by_epoch': True}, 'log_level': 'INFO', 'load_from': None, 'resume': False, 'dataset_type': 'KittiDataset', 'data_root': '../data/kitti/', 'class_names': ['Pedestrian', 'Cyclist', 'Car'], 'point_cloud_range': [0, -40, -3, 70.4, 40, 1], 'input_modality': {'use_lidar': True, 'use_camera': False}, 'metainfo': {'classes': ['Pedestrian', 'Cyclist', 'Car']}, 'backend_args': None, 'db_sampler': {'data_root': '../data/kitti/', 'info_path': '../data/kitti/kitti_dbinfos_train.pkl', 'rate': 1.0, 'prepare': {'filter_by_difficulty': [-1], 'filter_by_min_points': {'Car': 5, 'Pedestrian': 10, 'Cyclist': 10}}, 'classes': ['Pedestrian', 'Cyclist', 'Car'], 'sample_groups': {'Car': 12, 'Pedestrian': 6, 'Cyclist': 6}, 'points_loader': {'type': 'LoadPointsFromFile', 'coord_type': 'LIDAR', 'load_dim': 4, 'use_dim': 4, 'backend_args': None}, 'backend_args': None}, 'train_pipeline': [{'type': 'LoadPointsFromFile', 'coord_type': 'LIDAR', 'load_dim': 4, 'use_dim': 4, 'backend_args': None}, {'type': 'LoadAnnotations3D', 'with_bbox_3d': True, 'with_label_3d': True}, {'type': 'ObjectSample', 'db_sampler': {'data_root': '../data/kitti/', 'info_path': '../data/kitti/kitti_dbinfos_train.pkl'}}, {'type': 'ObjectNoise', 'num_try': 100, 'translation_std': [1.0, 1.0, 0.5], 'global_rot_range': [0.0, 0.0], 'rot_range': [-0.78539816, 0.78539816]}, {'type': 'RandomFlip3D', 'flip_ratio_bev_horizontal': 0.5}, {'type': 'GlobalRotScaleTrans', 'rot_range': [-0.78539816, 0.78539816], 'scale_ratio_range': [0.95, 1.05]}, {'type': 'PointsRangeFilter', 'point_cloud_range': [0, -40, -3, 70.4, 40, 1]}, {'type': 'ObjectRangeFilter', 'point_cloud_range': [0, -40, -3, 70.4, 40, 1]}, {'type': 'PointShuffle'}, {'type': 'Pack3DDetInputs', 'keys': ['points', 'gt_bboxes_3d', 'gt_labels_3d']}], 'test_pipeline': [{'type': 'LoadPointsFromFile', 'coord_type': 'LIDAR', 'load_dim': 4, 'use_dim': 4, 'backend_args': None}, {'type': 'MultiScaleFlipAug3D', 'img_scale': (1333, 800), 'pts_scale_ratio': 1, 'flip': False, 'transforms': [{'type': 'GlobalRotScaleTrans', 'rot_range': [0, 0], 'scale_ratio_range': [1.0, 1.0], 'translation_std': [0, 0, 0]}, {'type': 'RandomFlip3D'}, {'type': 'PointsRangeFilter', 'point_cloud_range': [0, -40, -3, 70.4, 40, 1]}]}, {'type': 'Pack3DDetInputs', 'keys': ['points']}], 'eval_pipeline': [{'type': 'LoadPointsFromFile', 'coord_type': 'LIDAR', 'load_dim': 4, 'use_dim': 4, 'backend_args': None}, {'type': 'Pack3DDetInputs', 'keys': ['points']}], 'train_dataloader': {'batch_size': 2, 'num_workers': 1, 'persistent_workers': True, 'sampler': {'type': 'DefaultSampler', 'shuffle': True}, 'dataset': {'type': 'RepeatDataset', 'times': 2, 'dataset': {'type': 'KittiDataset', 'data_root': '../data/kitti/', 'ann_file': 'kitti_infos_train.pkl', 'data_prefix': {'pts': 'training/velodyne_reduced'}, 'pipeline': [{'type': 'LoadPointsFromFile', 'coord_type': 'LIDAR', 'load_dim': 4, 'use_dim': 4, 'backend_args': None}, {'type': 'LoadAnnotations3D', 'with_bbox_3d': True, 'with_label_3d': True}, {'type': 'ObjectSample', 'db_sampler': {'data_root': 'data/kitti/kitti_tiny_3D/', 'info_path': 'data/kitti/kitti_tiny_3D/kitti_dbinfos_train.pkl', 'rate': 1.0, 'prepare': {'filter_by_difficulty': [-1], 'filter_by_min_points': {'Car': 5, 'Pedestrian': 10, 'Cyclist': 10}}, 'classes': ['Pedestrian', 'Cyclist', 'Car'], 'sample_groups': {'Car': 12, 'Pedestrian': 6, 'Cyclist': 6}, 'points_loader': {'type': 'LoadPointsFromFile', 'coord_type': 'LIDAR', 'load_dim': 4, 'use_dim': 4, 'backend_args': None}, 'backend_args': None}}, {'type': 'ObjectNoise', 'num_try': 100, 'translation_std': [1.0, 1.0, 0.5], 'global_rot_range': [0.0, 0.0], 'rot_range': [-0.78539816, 0.78539816]}, {'type': 'RandomFlip3D', 'flip_ratio_bev_horizontal': 0.5}, {'type': 'GlobalRotScaleTrans', 'rot_range': [-0.78539816, 0.78539816], 'scale_ratio_range': [0.95, 1.05]}, {'type': 'PointsRangeFilter', 'point_cloud_range': [0, -40, -3, 70.4, 40, 1]}, {'type': 'ObjectRangeFilter', 'point_cloud_range': [0, -40, -3, 70.4, 40, 1]}, {'type': 'PointShuffle'}, {'type': 'Pack3DDetInputs', 'keys': ['points', 'gt_bboxes_3d', 'gt_labels_3d']}], 'modality': {'use_lidar': True, 'use_camera': False}, 'test_mode': False, 'metainfo': {'classes': ['Pedestrian', 'Cyclist', 'Car']}, 'box_type_3d': 'LiDAR', 'backend_args': None}}}, 'val_dataloader': {'batch_size': 1, 'num_workers': 1, 'persistent_workers': True, 'drop_last': False, 'sampler': {'type': 'DefaultSampler', 'shuffle': False}, 'dataset': {'type': 'KittiDataset', 'data_root': 'data/kitti/kitti_tiny_3D/', 'data_prefix': {'pts': 'training/velodyne_reduced'}, 'ann_file': 'kitti_infos_val.pkl', 'pipeline': [{'type': 'LoadPointsFromFile', 'coord_type': 'LIDAR', 'load_dim': 4, 'use_dim': 4, 'backend_args': None}, {'type': 'MultiScaleFlipAug3D', 'img_scale': (1333, 800), 'pts_scale_ratio': 1, 'flip': False, 'transforms': [{'type': 'GlobalRotScaleTrans', 'rot_range': [0, 0], 'scale_ratio_range': [1.0, 1.0], 'translation_std': [0, 0, 0]}, {'type': 'RandomFlip3D'}, {'type': 'PointsRangeFilter', 'point_cloud_range': [0, -40, -3, 70.4, 40, 1]}]}, {'type': 'Pack3DDetInputs', 'keys': ['points']}], 'modality': {'use_lidar': True, 'use_camera': False}, 'test_mode': True, 'metainfo': {'classes': ['Pedestrian', 'Cyclist', 'Car']}, 'box_type_3d': 'LiDAR', 'backend_args': None}}, 'test_dataloader': {'batch_size': 1, 'num_workers': 1, 'persistent_workers': True, 'drop_last': False, 'sampler': {'type': 'DefaultSampler', 'shuffle': False}, 'dataset': {'type': 'KittiDataset', 'data_root': '../data/kitti/', 'data_prefix': {'pts': 'training/velodyne_reduced'}, 'ann_file': 'kitti_infos_val.pkl', 'pipeline': [{'type': 'LoadPointsFromFile', 'coord_type': 'LIDAR', 'load_dim': 4, 'use_dim': 4, 'backend_args': None}, {'type': 'MultiScaleFlipAug3D', 'img_scale': (1333, 800), 'pts_scale_ratio': 1, 'flip': False, 'transforms': [{'type': 'GlobalRotScaleTrans', 'rot_range': [0, 0], 'scale_ratio_range': [1.0, 1.0], 'translation_std': [0, 0, 0]}, {'type': 'RandomFlip3D'}, {'type': 'PointsRangeFilter', 'point_cloud_range': [0, -40, -3, 70.4, 40, 1]}]}, {'type': 'Pack3DDetInputs', 'keys': ['points']}], 'modality': {'use_lidar': True, 'use_camera': False}, 'test_mode': True, 'metainfo': {'classes': ['Pedestrian', 'Cyclist', 'Car']}, 'box_type_3d': 'LiDAR', 'backend_args': None}}, 'val_evaluator': {'type': 'KittiMetric', 'ann_file': '../data/kitti/kitti_infos_val.pkl', 'metric': 'bbox', 'backend_args': None}, 'test_evaluator': {'type': 'KittiMetric', 'ann_file': '../data/kitti/kitti_infos_val.pkl', 'metric': 'bbox', 'backend_args': None}, 'vis_backends': [{'type': 'LocalVisBackend'}], 'visualizer': {'type': 'Det3DLocalVisualizer', 'vis_backends': [{'type': 'LocalVisBackend'}], 'name': 'visualizer'}, 'optimizer': {'_delete_': True, 'type': 'SGD', 'lr': 0.01}, 'model': {'type': 'ResNet', 'depth': 50}}\n"
     ]
    }
   ],
   "source": [
    "cfg = Config.fromfile('./temp/inheritance.py')\n",
    "print(type(cfg))\n",
    "print(cfg)"
   ]
  },
  {
   "cell_type": "code",
   "execution_count": 124,
   "metadata": {},
   "outputs": [
    {
     "name": "stdout",
     "output_type": "stream",
     "text": [
      "default_scope\n",
      "default_hooks\n",
      "env_cfg\n",
      "log_processor\n",
      "log_level\n",
      "load_from\n",
      "resume\n",
      "dataset_type\n",
      "data_root\n",
      "class_names\n",
      "point_cloud_range\n",
      "input_modality\n",
      "metainfo\n",
      "backend_args\n",
      "db_sampler\n",
      "train_pipeline\n",
      "test_pipeline\n",
      "eval_pipeline\n",
      "train_dataloader\n",
      "val_dataloader\n",
      "test_dataloader\n",
      "val_evaluator\n",
      "test_evaluator\n",
      "vis_backends\n",
      "visualizer\n",
      "optimizer\n",
      "model\n"
     ]
    }
   ],
   "source": [
    "key_list = []\n",
    "for key in cfg:\n",
    "    key_list.append(key)\n",
    "    print(key)"
   ]
  },
  {
   "cell_type": "code",
   "execution_count": 125,
   "metadata": {},
   "outputs": [
    {
     "name": "stdout",
     "output_type": "stream",
     "text": [
      "default_scope   :  mmdet3d\n",
      "default_hooks   :  {'timer': {'type': 'IterTimerHook'}, 'logger': {'type': 'LoggerHook', 'interval': 50}, 'param_scheduler': {'type': 'ParamSchedulerHook'}, 'checkpoint': {'type': 'CheckpointHook', 'interval': -1}, 'sampler_seed': {'type': 'DistSamplerSeedHook'}, 'visualization': {'type': 'Det3DVisualizationHook'}}\n",
      "env_cfg   :  {'cudnn_benchmark': False, 'mp_cfg': {'mp_start_method': 'fork', 'opencv_num_threads': 0}, 'dist_cfg': {'backend': 'nccl'}}\n",
      "log_processor   :  {'type': 'LogProcessor', 'window_size': 50, 'by_epoch': True}\n",
      "log_level   :  INFO\n",
      "load_from   :  None\n",
      "resume   :  False\n",
      "dataset_type   :  KittiDataset\n",
      "data_root   :  ../data/kitti/\n",
      "class_names   :  ['Pedestrian', 'Cyclist', 'Car']\n",
      "point_cloud_range   :  [0, -40, -3, 70.4, 40, 1]\n",
      "input_modality   :  {'use_lidar': True, 'use_camera': False}\n",
      "metainfo   :  {'classes': ['Pedestrian', 'Cyclist', 'Car']}\n",
      "backend_args   :  None\n",
      "db_sampler   :  {'data_root': '../data/kitti/', 'info_path': '../data/kitti/kitti_dbinfos_train.pkl', 'rate': 1.0, 'prepare': {'filter_by_difficulty': [-1], 'filter_by_min_points': {'Car': 5, 'Pedestrian': 10, 'Cyclist': 10}}, 'classes': ['Pedestrian', 'Cyclist', 'Car'], 'sample_groups': {'Car': 12, 'Pedestrian': 6, 'Cyclist': 6}, 'points_loader': {'type': 'LoadPointsFromFile', 'coord_type': 'LIDAR', 'load_dim': 4, 'use_dim': 4, 'backend_args': None}, 'backend_args': None}\n",
      "train_pipeline   :  [{'type': 'LoadPointsFromFile', 'coord_type': 'LIDAR', 'load_dim': 4, 'use_dim': 4, 'backend_args': None}, {'type': 'LoadAnnotations3D', 'with_bbox_3d': True, 'with_label_3d': True}, {'type': 'ObjectSample', 'db_sampler': {'data_root': '../data/kitti/', 'info_path': '../data/kitti/kitti_dbinfos_train.pkl'}}, {'type': 'ObjectNoise', 'num_try': 100, 'translation_std': [1.0, 1.0, 0.5], 'global_rot_range': [0.0, 0.0], 'rot_range': [-0.78539816, 0.78539816]}, {'type': 'RandomFlip3D', 'flip_ratio_bev_horizontal': 0.5}, {'type': 'GlobalRotScaleTrans', 'rot_range': [-0.78539816, 0.78539816], 'scale_ratio_range': [0.95, 1.05]}, {'type': 'PointsRangeFilter', 'point_cloud_range': [0, -40, -3, 70.4, 40, 1]}, {'type': 'ObjectRangeFilter', 'point_cloud_range': [0, -40, -3, 70.4, 40, 1]}, {'type': 'PointShuffle'}, {'type': 'Pack3DDetInputs', 'keys': ['points', 'gt_bboxes_3d', 'gt_labels_3d']}]\n",
      "test_pipeline   :  [{'type': 'LoadPointsFromFile', 'coord_type': 'LIDAR', 'load_dim': 4, 'use_dim': 4, 'backend_args': None}, {'type': 'MultiScaleFlipAug3D', 'img_scale': (1333, 800), 'pts_scale_ratio': 1, 'flip': False, 'transforms': [{'type': 'GlobalRotScaleTrans', 'rot_range': [0, 0], 'scale_ratio_range': [1.0, 1.0], 'translation_std': [0, 0, 0]}, {'type': 'RandomFlip3D'}, {'type': 'PointsRangeFilter', 'point_cloud_range': [0, -40, -3, 70.4, 40, 1]}]}, {'type': 'Pack3DDetInputs', 'keys': ['points']}]\n",
      "eval_pipeline   :  [{'type': 'LoadPointsFromFile', 'coord_type': 'LIDAR', 'load_dim': 4, 'use_dim': 4, 'backend_args': None}, {'type': 'Pack3DDetInputs', 'keys': ['points']}]\n",
      "train_dataloader   :  {'batch_size': 2, 'num_workers': 1, 'persistent_workers': True, 'sampler': {'type': 'DefaultSampler', 'shuffle': True}, 'dataset': {'type': 'RepeatDataset', 'times': 2, 'dataset': {'type': 'KittiDataset', 'data_root': '../data/kitti/', 'ann_file': 'kitti_infos_train.pkl', 'data_prefix': {'pts': 'training/velodyne_reduced'}, 'pipeline': [{'type': 'LoadPointsFromFile', 'coord_type': 'LIDAR', 'load_dim': 4, 'use_dim': 4, 'backend_args': None}, {'type': 'LoadAnnotations3D', 'with_bbox_3d': True, 'with_label_3d': True}, {'type': 'ObjectSample', 'db_sampler': {'data_root': 'data/kitti/kitti_tiny_3D/', 'info_path': 'data/kitti/kitti_tiny_3D/kitti_dbinfos_train.pkl', 'rate': 1.0, 'prepare': {'filter_by_difficulty': [-1], 'filter_by_min_points': {'Car': 5, 'Pedestrian': 10, 'Cyclist': 10}}, 'classes': ['Pedestrian', 'Cyclist', 'Car'], 'sample_groups': {'Car': 12, 'Pedestrian': 6, 'Cyclist': 6}, 'points_loader': {'type': 'LoadPointsFromFile', 'coord_type': 'LIDAR', 'load_dim': 4, 'use_dim': 4, 'backend_args': None}, 'backend_args': None}}, {'type': 'ObjectNoise', 'num_try': 100, 'translation_std': [1.0, 1.0, 0.5], 'global_rot_range': [0.0, 0.0], 'rot_range': [-0.78539816, 0.78539816]}, {'type': 'RandomFlip3D', 'flip_ratio_bev_horizontal': 0.5}, {'type': 'GlobalRotScaleTrans', 'rot_range': [-0.78539816, 0.78539816], 'scale_ratio_range': [0.95, 1.05]}, {'type': 'PointsRangeFilter', 'point_cloud_range': [0, -40, -3, 70.4, 40, 1]}, {'type': 'ObjectRangeFilter', 'point_cloud_range': [0, -40, -3, 70.4, 40, 1]}, {'type': 'PointShuffle'}, {'type': 'Pack3DDetInputs', 'keys': ['points', 'gt_bboxes_3d', 'gt_labels_3d']}], 'modality': {'use_lidar': True, 'use_camera': False}, 'test_mode': False, 'metainfo': {'classes': ['Pedestrian', 'Cyclist', 'Car']}, 'box_type_3d': 'LiDAR', 'backend_args': None}}}\n",
      "val_dataloader   :  {'batch_size': 1, 'num_workers': 1, 'persistent_workers': True, 'drop_last': False, 'sampler': {'type': 'DefaultSampler', 'shuffle': False}, 'dataset': {'type': 'KittiDataset', 'data_root': 'data/kitti/kitti_tiny_3D/', 'data_prefix': {'pts': 'training/velodyne_reduced'}, 'ann_file': 'kitti_infos_val.pkl', 'pipeline': [{'type': 'LoadPointsFromFile', 'coord_type': 'LIDAR', 'load_dim': 4, 'use_dim': 4, 'backend_args': None}, {'type': 'MultiScaleFlipAug3D', 'img_scale': (1333, 800), 'pts_scale_ratio': 1, 'flip': False, 'transforms': [{'type': 'GlobalRotScaleTrans', 'rot_range': [0, 0], 'scale_ratio_range': [1.0, 1.0], 'translation_std': [0, 0, 0]}, {'type': 'RandomFlip3D'}, {'type': 'PointsRangeFilter', 'point_cloud_range': [0, -40, -3, 70.4, 40, 1]}]}, {'type': 'Pack3DDetInputs', 'keys': ['points']}], 'modality': {'use_lidar': True, 'use_camera': False}, 'test_mode': True, 'metainfo': {'classes': ['Pedestrian', 'Cyclist', 'Car']}, 'box_type_3d': 'LiDAR', 'backend_args': None}}\n",
      "test_dataloader   :  {'batch_size': 1, 'num_workers': 1, 'persistent_workers': True, 'drop_last': False, 'sampler': {'type': 'DefaultSampler', 'shuffle': False}, 'dataset': {'type': 'KittiDataset', 'data_root': '../data/kitti/', 'data_prefix': {'pts': 'training/velodyne_reduced'}, 'ann_file': 'kitti_infos_val.pkl', 'pipeline': [{'type': 'LoadPointsFromFile', 'coord_type': 'LIDAR', 'load_dim': 4, 'use_dim': 4, 'backend_args': None}, {'type': 'MultiScaleFlipAug3D', 'img_scale': (1333, 800), 'pts_scale_ratio': 1, 'flip': False, 'transforms': [{'type': 'GlobalRotScaleTrans', 'rot_range': [0, 0], 'scale_ratio_range': [1.0, 1.0], 'translation_std': [0, 0, 0]}, {'type': 'RandomFlip3D'}, {'type': 'PointsRangeFilter', 'point_cloud_range': [0, -40, -3, 70.4, 40, 1]}]}, {'type': 'Pack3DDetInputs', 'keys': ['points']}], 'modality': {'use_lidar': True, 'use_camera': False}, 'test_mode': True, 'metainfo': {'classes': ['Pedestrian', 'Cyclist', 'Car']}, 'box_type_3d': 'LiDAR', 'backend_args': None}}\n",
      "val_evaluator   :  {'type': 'KittiMetric', 'ann_file': '../data/kitti/kitti_infos_val.pkl', 'metric': 'bbox', 'backend_args': None}\n",
      "test_evaluator   :  {'type': 'KittiMetric', 'ann_file': '../data/kitti/kitti_infos_val.pkl', 'metric': 'bbox', 'backend_args': None}\n",
      "vis_backends   :  [{'type': 'LocalVisBackend'}]\n",
      "visualizer   :  {'type': 'Det3DLocalVisualizer', 'vis_backends': [{'type': 'LocalVisBackend'}], 'name': 'visualizer'}\n",
      "optimizer   :  {'_delete_': True, 'type': 'SGD', 'lr': 0.01}\n",
      "model   :  {'type': 'ResNet', 'depth': 50}\n"
     ]
    }
   ],
   "source": [
    "for key in cfg:\n",
    "    print(key,\"  : \",cfg[key])"
   ]
  },
  {
   "cell_type": "code",
   "execution_count": 126,
   "metadata": {},
   "outputs": [
    {
     "data": {
      "text/plain": [
       "{'data_root': '../data/kitti/',\n",
       " 'info_path': '../data/kitti/kitti_dbinfos_train.pkl',\n",
       " 'rate': 1.0,\n",
       " 'prepare': {'filter_by_difficulty': [-1],\n",
       "  'filter_by_min_points': {'Car': 5, 'Pedestrian': 10, 'Cyclist': 10}},\n",
       " 'classes': ['Pedestrian', 'Cyclist', 'Car'],\n",
       " 'sample_groups': {'Car': 12, 'Pedestrian': 6, 'Cyclist': 6},\n",
       " 'points_loader': {'type': 'LoadPointsFromFile',\n",
       "  'coord_type': 'LIDAR',\n",
       "  'load_dim': 4,\n",
       "  'use_dim': 4,\n",
       "  'backend_args': None},\n",
       " 'backend_args': None}"
      ]
     },
     "execution_count": 126,
     "metadata": {},
     "output_type": "execute_result"
    }
   ],
   "source": [
    "cfg[\"db_sampler\"]"
   ]
  },
  {
   "cell_type": "code",
   "execution_count": 127,
   "metadata": {},
   "outputs": [
    {
     "data": {
      "text/plain": [
       "{'batch_size': 2,\n",
       " 'num_workers': 1,\n",
       " 'persistent_workers': True,\n",
       " 'sampler': {'type': 'DefaultSampler', 'shuffle': True},\n",
       " 'dataset': {'type': 'RepeatDataset',\n",
       "  'times': 2,\n",
       "  'dataset': {'type': 'KittiDataset',\n",
       "   'data_root': '../data/kitti/',\n",
       "   'ann_file': 'kitti_infos_train.pkl',\n",
       "   'data_prefix': {'pts': 'training/velodyne_reduced'},\n",
       "   'pipeline': [{'type': 'LoadPointsFromFile',\n",
       "     'coord_type': 'LIDAR',\n",
       "     'load_dim': 4,\n",
       "     'use_dim': 4,\n",
       "     'backend_args': None},\n",
       "    {'type': 'LoadAnnotations3D', 'with_bbox_3d': True, 'with_label_3d': True},\n",
       "    {'type': 'ObjectSample',\n",
       "     'db_sampler': {'data_root': 'data/kitti/kitti_tiny_3D/',\n",
       "      'info_path': 'data/kitti/kitti_tiny_3D/kitti_dbinfos_train.pkl',\n",
       "      'rate': 1.0,\n",
       "      'prepare': {'filter_by_difficulty': [-1],\n",
       "       'filter_by_min_points': {'Car': 5, 'Pedestrian': 10, 'Cyclist': 10}},\n",
       "      'classes': ['Pedestrian', 'Cyclist', 'Car'],\n",
       "      'sample_groups': {'Car': 12, 'Pedestrian': 6, 'Cyclist': 6},\n",
       "      'points_loader': {'type': 'LoadPointsFromFile',\n",
       "       'coord_type': 'LIDAR',\n",
       "       'load_dim': 4,\n",
       "       'use_dim': 4,\n",
       "       'backend_args': None},\n",
       "      'backend_args': None}},\n",
       "    {'type': 'ObjectNoise',\n",
       "     'num_try': 100,\n",
       "     'translation_std': [1.0, 1.0, 0.5],\n",
       "     'global_rot_range': [0.0, 0.0],\n",
       "     'rot_range': [-0.78539816, 0.78539816]},\n",
       "    {'type': 'RandomFlip3D', 'flip_ratio_bev_horizontal': 0.5},\n",
       "    {'type': 'GlobalRotScaleTrans',\n",
       "     'rot_range': [-0.78539816, 0.78539816],\n",
       "     'scale_ratio_range': [0.95, 1.05]},\n",
       "    {'type': 'PointsRangeFilter',\n",
       "     'point_cloud_range': [0, -40, -3, 70.4, 40, 1]},\n",
       "    {'type': 'ObjectRangeFilter',\n",
       "     'point_cloud_range': [0, -40, -3, 70.4, 40, 1]},\n",
       "    {'type': 'PointShuffle'},\n",
       "    {'type': 'Pack3DDetInputs',\n",
       "     'keys': ['points', 'gt_bboxes_3d', 'gt_labels_3d']}],\n",
       "   'modality': {'use_lidar': True, 'use_camera': False},\n",
       "   'test_mode': False,\n",
       "   'metainfo': {'classes': ['Pedestrian', 'Cyclist', 'Car']},\n",
       "   'box_type_3d': 'LiDAR',\n",
       "   'backend_args': None}}}"
      ]
     },
     "execution_count": 127,
     "metadata": {},
     "output_type": "execute_result"
    }
   ],
   "source": [
    "cfg[\"train_dataloader\"]"
   ]
  },
  {
   "cell_type": "code",
   "execution_count": 128,
   "metadata": {},
   "outputs": [
    {
     "data": {
      "text/plain": [
       "[{'type': 'LoadPointsFromFile',\n",
       "  'coord_type': 'LIDAR',\n",
       "  'load_dim': 4,\n",
       "  'use_dim': 4,\n",
       "  'backend_args': None},\n",
       " {'type': 'LoadAnnotations3D', 'with_bbox_3d': True, 'with_label_3d': True},\n",
       " {'type': 'ObjectSample',\n",
       "  'db_sampler': {'data_root': '../data/kitti/',\n",
       "   'info_path': '../data/kitti/kitti_dbinfos_train.pkl'}},\n",
       " {'type': 'ObjectNoise',\n",
       "  'num_try': 100,\n",
       "  'translation_std': [1.0, 1.0, 0.5],\n",
       "  'global_rot_range': [0.0, 0.0],\n",
       "  'rot_range': [-0.78539816, 0.78539816]},\n",
       " {'type': 'RandomFlip3D', 'flip_ratio_bev_horizontal': 0.5},\n",
       " {'type': 'GlobalRotScaleTrans',\n",
       "  'rot_range': [-0.78539816, 0.78539816],\n",
       "  'scale_ratio_range': [0.95, 1.05]},\n",
       " {'type': 'PointsRangeFilter', 'point_cloud_range': [0, -40, -3, 70.4, 40, 1]},\n",
       " {'type': 'ObjectRangeFilter', 'point_cloud_range': [0, -40, -3, 70.4, 40, 1]},\n",
       " {'type': 'PointShuffle'},\n",
       " {'type': 'Pack3DDetInputs',\n",
       "  'keys': ['points', 'gt_bboxes_3d', 'gt_labels_3d']}]"
      ]
     },
     "execution_count": 128,
     "metadata": {},
     "output_type": "execute_result"
    }
   ],
   "source": [
    "cfg[\"train_pipeline\"]"
   ]
  },
  {
   "cell_type": "code",
   "execution_count": 129,
   "metadata": {},
   "outputs": [],
   "source": [
    "cfg.dump('resnet50_dump.py')"
   ]
  },
  {
   "cell_type": "code",
   "execution_count": 130,
   "metadata": {},
   "outputs": [
    {
     "name": "stdout",
     "output_type": "stream",
     "text": [
      "<class 'mmengine.config.config.Config'>\n",
      "Config (path: ./temp/predefine.py): {'work_dir': './work_dir/predefine'}\n"
     ]
    }
   ],
   "source": [
    "cfg = Config.fromfile('./temp/predefine.py')\n",
    "print(type(cfg))\n",
    "print(cfg)"
   ]
  },
  {
   "cell_type": "code",
   "execution_count": null,
   "metadata": {},
   "outputs": [],
   "source": []
  },
  {
   "cell_type": "code",
   "execution_count": null,
   "metadata": {},
   "outputs": [],
   "source": []
  },
  {
   "cell_type": "code",
   "execution_count": null,
   "metadata": {},
   "outputs": [],
   "source": []
  }
 ],
 "metadata": {
  "kernelspec": {
   "display_name": "mmlab3",
   "language": "python",
   "name": "python3"
  },
  "language_info": {
   "codemirror_mode": {
    "name": "ipython",
    "version": 3
   },
   "file_extension": ".py",
   "mimetype": "text/x-python",
   "name": "python",
   "nbconvert_exporter": "python",
   "pygments_lexer": "ipython3",
   "version": "3.8.17"
  },
  "orig_nbformat": 4
 },
 "nbformat": 4,
 "nbformat_minor": 2
}
